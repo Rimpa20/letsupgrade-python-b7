{
  "nbformat": 4,
  "nbformat_minor": 0,
  "metadata": {
    "colab": {
      "name": "Untitled1.ipynb",
      "provenance": [],
      "collapsed_sections": [],
      "authorship_tag": "ABX9TyNXrXhY2qxMVAG0oJ7JXg8U",
      "include_colab_link": true
    },
    "kernelspec": {
      "name": "python3",
      "display_name": "Python 3"
    }
  },
  "cells": [
    {
      "cell_type": "markdown",
      "metadata": {
        "id": "view-in-github",
        "colab_type": "text"
      },
      "source": [
        "<a href=\"https://colab.research.google.com/github/Rimpa20/letsupgrade-python-b7/blob/master/Untitled1.ipynb\" target=\"_parent\"><img src=\"https://colab.research.google.com/assets/colab-badge.svg\" alt=\"Open In Colab\"/></a>"
      ]
    },
    {
      "cell_type": "code",
      "metadata": {
        "id": "Q8g-0heaMKe-",
        "colab_type": "code",
        "colab": {
          "base_uri": "https://localhost:8080/",
          "height": 51
        },
        "outputId": "bbf8ab3d-943a-4224-b15d-9a638f25b143"
      },
      "source": [
        "alt=input (\"enter the current altitude\")\n",
        "alt=int(alt)\n",
        "if alt<1000:\n",
        " print (\"safe to land\")\n",
        "elif alt>1000 and alt<5000:\n",
        "  print(\" bring down to 1000\")\n",
        "else:\n",
        " print (\"turn around\")"
      ],
      "execution_count": 14,
      "outputs": [
        {
          "output_type": "stream",
          "text": [
            "enter the current altitude6500\n",
            "turn around\n"
          ],
          "name": "stdout"
        }
      ]
    },
    {
      "cell_type": "code",
      "metadata": {
        "id": "MjEAGOY5AQFS",
        "colab_type": "code",
        "colab": {}
      },
      "source": [
        " \n",
        "for Number in range (1, 201):\n",
        "    count = 0\n",
        "    for i in range(2, Number):\n",
        "        if(Number % i == 0):\n",
        "            count = count + 1\n",
        "            break\n",
        " \n",
        "    if (count == 0 and Number != 1):\n",
        "        print(Number)"
      ],
      "execution_count": null,
      "outputs": []
    }
  ]
}